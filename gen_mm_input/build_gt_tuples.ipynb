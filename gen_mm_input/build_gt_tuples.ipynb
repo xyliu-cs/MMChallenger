{
 "cells": [
  {
   "cell_type": "code",
   "execution_count": null,
   "metadata": {},
   "outputs": [],
   "source": [
    "import json\n",
    "from collections import defaultdict\n",
    "\n",
    "\n",
    "\n",
    "input_file = \"context_target_exprs_K20_scored_vicuna_v15_13b.json\"\n",
    "\n",
    "with open(input_file, 'r') as f:\n",
    "    scored_exprs = json.load(f)\n",
    "# category 0: (subject, action) --> place\n",
    "# category 1: (subject, place) --> action\n",
    "\n",
    "subject_action_t20 = defaultdict(list)\n",
    "subject_place_t20 = defaultdict(list)\n",
    "\n",
    "for expr_dict in scored_exprs:\n",
    "    if expr_dict[\"category\"] == 0:\n",
    "        if expr_dict[\"action\"] not in subject_action_t20[expr_dict[\"subject\"]]:\n",
    "            subject_action_t20[expr_dict[\"subject\"]].append(expr_dict[\"action\"])\n",
    "    elif expr_dict[\"category\"] == 1:\n",
    "        if expr_dict[\"place\"] not in subject_place_t20[expr_dict[\"subject\"]]:\n",
    "            subject_place_t20[expr_dict[\"subject\"]].append(expr_dict[\"place\"])"
   ]
  },
  {
   "cell_type": "code",
   "execution_count": null,
   "metadata": {},
   "outputs": [],
   "source": [
    "subject_action_t20 = {}\n",
    "for subj, val_list in subject_action_t20.items():\n",
    "    assert len(val_list) == 20\n",
    "    subject_action_t20[subj] = val_list[:20]\n",
    "    # for action in val_list:\n",
    "    #     print(f\"{subj} {action}\")\n",
    "    # print(\"=\"*30)\n",
    "with open(\"subject_action_t20_to_clean.json\", \"w\") as f:\n",
    "    json.dump(subject_action_t20, f, indent=2)\n",
    "with open(\"subject_action_t20_cleaned.json\", \"w\") as f:\n",
    "    json.dump(subject_action_t20, f, indent=2)"
   ]
  },
  {
   "cell_type": "code",
   "execution_count": null,
   "metadata": {},
   "outputs": [],
   "source": [
    "file_path = \"subject_action_T20_cleaned.json\"\n",
    "with open(file_path, \"r\") as f:\n",
    "    filtered_subject_action_tuples = json.load(f)\n",
    "\n",
    "length = 0\n",
    "for subject in filtered_subject_action_tuples:\n",
    "    length += len(filtered_subject_action_tuples[subject])\n",
    "print(f\"Total tuples: {length}\")"
   ]
  },
  {
   "cell_type": "code",
   "execution_count": null,
   "metadata": {},
   "outputs": [],
   "source": [
    "P = 20\n",
    "def nested_dict():\n",
    "    return defaultdict(list)\n",
    "\n",
    "# Create the nested defaultdict\n",
    "place_to_subject_action = defaultdict(nested_dict)\n",
    "\n",
    "for expr_dict in scored_exprs:\n",
    "    if expr_dict[\"category\"] == 0:\n",
    "        if expr_dict[\"subject\"] in filtered_subject_action_tuples and expr_dict[\"action\"] in filtered_subject_action_tuples[expr_dict[\"subject\"]]:\n",
    "            place_to_subject_action[expr_dict[\"subject\"]][expr_dict[\"action\"]].append([expr_dict[\"place\"], expr_dict[\"logprob\"]])\n",
    "\n",
    "for subject in place_to_subject_action:\n",
    "    for action in place_to_subject_action[subject]:\n",
    "        place_to_subject_action[subject][action] = sorted(place_to_subject_action[subject][action], key=lambda x: x[1], reverse=False)[:P] # last p items\n",
    "\n",
    "out_1 = f\"subject_T20action_B{P}place.json\"\n",
    "out_2 = f\"subject_T20action_B{P}place_cleaned.json\"\n",
    "\n",
    "with open(out_1, 'w') as f:\n",
    "    json.dump(place_to_subject_action, f, indent=2)\n",
    "with open(out_2, 'w') as f:\n",
    "    json.dump(place_to_subject_action, f, indent=2)"
   ]
  },
  {
   "cell_type": "code",
   "execution_count": null,
   "metadata": {},
   "outputs": [],
   "source": [
    "with open(\"/home/liu/github_repos/MMChallenger/gen_mm_input/subject_T20action_B20place_cleaned.json\", \"r\") as f:\n",
    "    data = json.load(f)\n",
    "\n",
    "length = 0\n",
    "for subject in data:\n",
    "    for action in data[subject]:\n",
    "        for place in data[subject][action]:\n",
    "            length += 1\n",
    "print(length)"
   ]
  },
  {
   "cell_type": "code",
   "execution_count": null,
   "metadata": {},
   "outputs": [],
   "source": [
    "for subj, val_list in subject_place_t20.items():\n",
    "    assert len(val_list) == 20\n",
    "    subject_place_t20[subj] = val_list[:5]\n",
    "\n",
    "with open(\"subject_place_T5_to_clean.json\", \"w\") as f:\n",
    "    json.dump(subject_place_t20, f, indent=2)\n",
    "with open(\"subject_place_T5_cleaned.json\", \"w\") as f:\n",
    "    json.dump(subject_place_t20, f, indent=2)"
   ]
  },
  {
   "cell_type": "code",
   "execution_count": null,
   "metadata": {},
   "outputs": [],
   "source": [
    "file_path = \"subject_place_T5_cleaned.json\"\n",
    "with open(file_path, \"r\") as f:\n",
    "    filtered_subject_place_tuples = json.load(f)\n",
    "\n",
    "length = 0\n",
    "for subject in filtered_subject_place_tuples:\n",
    "    length += len(filtered_subject_place_tuples[subject])\n",
    "print(f\"Total tuples: {length}\")"
   ]
  },
  {
   "cell_type": "code",
   "execution_count": null,
   "metadata": {},
   "outputs": [],
   "source": [
    "# Create the nested defaultdict\n",
    "action_to_subject_place = defaultdict(nested_dict)\n",
    "\n",
    "for expr_dict in scored_exprs:\n",
    "    if expr_dict[\"category\"] == 1:\n",
    "        if expr_dict[\"subject\"] in filtered_subject_place_tuples and expr_dict[\"place\"] in filtered_subject_place_tuples[expr_dict[\"subject\"]]:\n",
    "            action_to_subject_place[expr_dict[\"subject\"]][expr_dict[\"place\"]].append([expr_dict[\"action\"], expr_dict[\"logprob\"]])\n",
    "\n",
    "for subject in action_to_subject_place:\n",
    "    for place in action_to_subject_place[subject]:\n",
    "        action_to_subject_place[subject][place] = sorted(action_to_subject_place[subject][place], key=lambda x: x[1], reverse=False)[:P] # last p items\n",
    "\n",
    "out_1 = f\"subject_T20place_B{P}action.json\"\n",
    "out_2 = f\"subject_T20place_B{P}action_cleaned.json\"\n",
    "\n",
    "with open(out_1, 'w') as f:\n",
    "    json.dump(action_to_subject_place, f, indent=2)\n",
    "with open(out_2, 'w') as f:\n",
    "    json.dump(action_to_subject_place, f, indent=2)"
   ]
  },
  {
   "cell_type": "code",
   "execution_count": null,
   "metadata": {},
   "outputs": [],
   "source": [
    "baby_on_bed = []\n",
    "\n",
    "for expr_dict in scored_exprs:\n",
    "    if expr_dict[\"category\"] == 1:\n",
    "        if expr_dict[\"subject\"] == \"a gardener\" and expr_dict[\"place\"] == \"in a garden\":\n",
    "            baby_on_bed.append([expr_dict[\"action\"], expr_dict[\"logprob\"]])\n",
    "\n",
    "baby_on_bed = sorted(baby_on_bed, key=lambda x: x[1], reverse=False)\n",
    "baby_on_bed"
   ]
  }
 ],
 "metadata": {
  "language_info": {
   "name": "python"
  }
 },
 "nbformat": 4,
 "nbformat_minor": 2
}
