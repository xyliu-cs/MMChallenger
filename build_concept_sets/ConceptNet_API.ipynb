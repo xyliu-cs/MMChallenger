{
 "cells": [
  {
   "cell_type": "code",
   "execution_count": null,
   "metadata": {},
   "outputs": [],
   "source": [
    "import requests\n",
    "from collections import defaultdict\n",
    "\n",
    "def get_related_verbs_and_locations(noun):\n",
    "    base_url = \"http://api.conceptnet.io/query\"\n",
    "    results = defaultdict(lambda: {\"CapableOf\": [], \"AtLocation\": []})\n",
    "\n",
    "    # Fetch \"CapableOf\" relationships\n",
    "    params_capable_of = {\n",
    "        \"rel\": \"/r/CapableOf\",\n",
    "        \"start\": f\"/c/en/{noun}\",\n",
    "        \"limit\": 1000  # Adjust limit as needed\n",
    "    }\n",
    "    response = requests.get(base_url, params=params_capable_of)\n",
    "    if response.status_code == 200:\n",
    "        data = response.json()\n",
    "        edges = data.get(\"edges\", [])\n",
    "        for edge in edges:\n",
    "            verb = edge.get(\"end\", {}).get(\"label\", \"\")\n",
    "            weight = edge.get(\"weight\", 0)\n",
    "            results[noun][\"CapableOf\"].append((verb, weight))\n",
    "\n",
    "        # Sort \"CapableOf\" verbs for each noun by weight in descending order and keep the top 10\n",
    "        results[noun][\"CapableOf\"] = sorted(results[noun][\"CapableOf\"], key=lambda x: x[1], reverse=True)[:10]\n",
    "    else:\n",
    "        print(f\"Failed to fetch 'CapableOf' data for {noun}\")\n",
    "\n",
    "    # Fetch \"AtLocation\" relationships\n",
    "    params_at_location = {\n",
    "        \"rel\": \"/r/AtLocation\",\n",
    "        \"start\": f\"/c/en/{noun}\",\n",
    "        \"limit\": 1000  # Adjust limit as needed\n",
    "    }\n",
    "    response = requests.get(base_url, params=params_at_location)\n",
    "    if response.status_code == 200:\n",
    "        data = response.json()\n",
    "        edges = data.get(\"edges\", [])\n",
    "        for edge in edges:\n",
    "            location = edge.get(\"end\", {}).get(\"label\", \"\")\n",
    "            weight = edge.get(\"weight\", 0)\n",
    "            surface_text = edge.get(\"surfaceText\", \"No surface text available\")\n",
    "            results[noun][\"AtLocation\"].append((location, weight, surface_text))\n",
    "\n",
    "        # Sort \"AtLocation\" locations for each noun by weight in descending order and keep the top 10, including surface text\n",
    "        results[noun][\"AtLocation\"] = sorted(results[noun][\"AtLocation\"], key=lambda x: x[1], reverse=True)[:10]\n",
    "    else:\n",
    "        print(f\"Failed to fetch 'AtLocation' data for {noun}\")\n",
    "\n",
    "    return results"
   ]
  },
  {
   "cell_type": "code",
   "execution_count": null,
   "metadata": {},
   "outputs": [],
   "source": [
    "with open('./OMCS-SUBJ-100K-t1000_FILTERED.txt', 'r') as f:\n",
    "    subjs = [line.split(':')[0] for line in f.readlines()]"
   ]
  },
  {
   "cell_type": "code",
   "execution_count": null,
   "metadata": {},
   "outputs": [],
   "source": [
    "subjs_last_noun = [subj.split()[-1] for subj in subjs]\n",
    "subjs_last_noun"
   ]
  },
  {
   "cell_type": "code",
   "execution_count": null,
   "metadata": {},
   "outputs": [],
   "source": [
    "import json\n",
    "with open('conceptnet_query.txt', 'w') as f:\n",
    "    for subj in subjs_last_noun:\n",
    "        result = get_related_verbs_and_locations(subj)\n",
    "        result_str = json.dumps(result, indent=4)  # Convert the defaultdict to a pretty-printed JSON string\n",
    "        f.write(result_str)\n",
    "        f.write('\\n') \n",
    "        print(subj)"
   ]
  }
 ],
 "metadata": {
  "kernelspec": {
   "display_name": "jupyter",
   "language": "python",
   "name": "python3"
  },
  "language_info": {
   "codemirror_mode": {
    "name": "ipython",
    "version": 3
   },
   "file_extension": ".py",
   "mimetype": "text/x-python",
   "name": "python",
   "nbconvert_exporter": "python",
   "pygments_lexer": "ipython3",
   "version": "3.12.2"
  }
 },
 "nbformat": 4,
 "nbformat_minor": 2
}
