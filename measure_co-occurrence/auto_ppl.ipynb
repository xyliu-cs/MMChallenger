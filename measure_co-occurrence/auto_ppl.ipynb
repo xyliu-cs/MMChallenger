{
 "cells": [
  {
   "cell_type": "code",
   "execution_count": null,
   "metadata": {},
   "outputs": [],
   "source": [
    "!pip install -U evaluate"
   ]
  },
  {
   "cell_type": "code",
   "execution_count": 2,
   "metadata": {},
   "outputs": [],
   "source": [
    "import evaluate"
   ]
  },
  {
   "cell_type": "code",
   "execution_count": 6,
   "metadata": {},
   "outputs": [],
   "source": [
    "import torch\n",
    "torch.cuda.empty_cache()"
   ]
  },
  {
   "cell_type": "code",
   "execution_count": 8,
   "metadata": {},
   "outputs": [
    {
     "data": {
      "application/vnd.jupyter.widget-view+json": {
       "model_id": "83442ac63e684f63803bf2574b1ccd9c",
       "version_major": 2,
       "version_minor": 0
      },
      "text/plain": [
       "Loading checkpoint shards:   0%|          | 0/2 [00:00<?, ?it/s]"
      ]
     },
     "metadata": {},
     "output_type": "display_data"
    },
    {
     "data": {
      "application/vnd.jupyter.widget-view+json": {
       "model_id": "63ab4e80ad944b2b8bbb0594310e6538",
       "version_major": 2,
       "version_minor": 0
      },
      "text/plain": [
       "  0%|          | 0/1 [00:00<?, ?it/s]"
      ]
     },
     "metadata": {},
     "output_type": "display_data"
    },
    {
     "name": "stdout",
     "output_type": "stream",
     "text": [
      "{'perplexities': [77.49515533447266, 23.14792823791504, 18.501489639282227], 'mean_perplexity': 39.714857737223305}\n"
     ]
    }
   ],
   "source": [
    "perplexity = evaluate.load(\"perplexity\", module_type=\"metric\")\n",
    "input_texts = [\"Texas is larger than New York.\", \"Russia is the smallest country in the world.\", \"Among Arizona, Oklahoma, North Carolina, and Delaware on the map, Delaware is the farthest south.\"]\n",
    "results = perplexity.compute(model_id='/120040051/vicuna-7b-v1.5',add_start_token=False,predictions=input_texts)\n",
    "print(results)"
   ]
  },
  {
   "cell_type": "code",
   "execution_count": 8,
   "metadata": {},
   "outputs": [
    {
     "data": {
      "application/vnd.jupyter.widget-view+json": {
       "model_id": "6c0e901cb9af49e4aad6896929947b1d",
       "version_major": 2,
       "version_minor": 0
      },
      "text/plain": [
       "Loading checkpoint shards:   0%|          | 0/2 [00:00<?, ?it/s]"
      ]
     },
     "metadata": {},
     "output_type": "display_data"
    },
    {
     "data": {
      "application/vnd.jupyter.widget-view+json": {
       "model_id": "5d473033931f470cb4355a0e13f1e925",
       "version_major": 2,
       "version_minor": 0
      },
      "text/plain": [
       "  0%|          | 0/1 [00:00<?, ?it/s]"
      ]
     },
     "metadata": {},
     "output_type": "display_data"
    },
    {
     "name": "stdout",
     "output_type": "stream",
     "text": [
      "{'perplexities': [34.21406555175781, 24.125865936279297, 117.77251434326172], 'mean_perplexity': 58.704148610432945}\n"
     ]
    }
   ],
   "source": [
    "input_texts_2 = [\"a student is playing a violin in the countryside\", \"a musically gifted student is playing a violin in the countryside\", \"a student is serving dinner in the countryside\"]\n",
    "results = perplexity.compute(model_id='/120040051/vicuna-7b-v1.5',add_start_token=False,predictions=input_texts_2)\n",
    "print(results)"
   ]
  },
  {
   "cell_type": "code",
   "execution_count": 7,
   "metadata": {},
   "outputs": [
    {
     "data": {
      "text/plain": [
       "{'perplexities': [34.21402359008789, 22.796405792236328, 117.77240753173828],\n",
       " 'mean_perplexity': 58.260945638020836}"
      ]
     },
     "execution_count": 7,
     "metadata": {},
     "output_type": "execute_result"
    }
   ],
   "source": [
    "results"
   ]
  },
  {
   "cell_type": "code",
   "execution_count": 1,
   "metadata": {},
   "outputs": [
    {
     "name": "stdout",
     "output_type": "stream",
     "text": [
      "Loading sentences from /120040051/test_resource/raw_sentences/tmp_compositional_sents_0307.json ...\n"
     ]
    }
   ],
   "source": [
    "import evaluate\n",
    "import json\n",
    "\n",
    "input_file_path = '/120040051/test_resource/raw_sentences/tmp_compositional_sents_0307.json'\n",
    "output_file_path = '/120040051/test_resource/sentence_ppl_lookup/sentence_lookup_vicuna_2024-03-07_auto.json'\n",
    "\n",
    "perplexity = evaluate.load(\"perplexity\", module_type=\"metric\")\n",
    "print(f\"Loading sentences from {input_file_path} ...\")\n",
    "with open(input_file_path, 'r') as f:\n",
    "    j_data = json.load(f)"
   ]
  },
  {
   "cell_type": "code",
   "execution_count": 2,
   "metadata": {},
   "outputs": [],
   "source": [
    "sent_list = j_data[\"data\"][:100]\n",
    "sent_list_text = [sent_dict['text'] for sent_dict in sent_list]"
   ]
  },
  {
   "cell_type": "code",
   "execution_count": 5,
   "metadata": {},
   "outputs": [
    {
     "data": {
      "text/plain": [
       "100"
      ]
     },
     "execution_count": 5,
     "metadata": {},
     "output_type": "execute_result"
    }
   ],
   "source": [
    "len(sent_list_text)"
   ]
  },
  {
   "cell_type": "code",
   "execution_count": 6,
   "metadata": {},
   "outputs": [
    {
     "data": {
      "application/vnd.jupyter.widget-view+json": {
       "model_id": "894685e5f3024b82b3f1a6befdf52a07",
       "version_major": 2,
       "version_minor": 0
      },
      "text/plain": [
       "Loading checkpoint shards:   0%|          | 0/2 [00:00<?, ?it/s]"
      ]
     },
     "metadata": {},
     "output_type": "display_data"
    },
    {
     "name": "stderr",
     "output_type": "stream",
     "text": [
      "/root/anaconda3/envs/llama2/lib/python3.11/site-packages/torch/_utils.py:776: UserWarning: TypedStorage is deprecated. It will be removed in the future and UntypedStorage will be the only storage class. This should only matter to you if you are using storages directly.  To access UntypedStorage directly, use tensor.untyped_storage() instead of tensor.storage()\n",
      "  return self.fget.__get__(instance, owner)()\n"
     ]
    },
    {
     "data": {
      "application/vnd.jupyter.widget-view+json": {
       "model_id": "fdaff6fd971745308be8bad9f23bcd1f",
       "version_major": 2,
       "version_minor": 0
      },
      "text/plain": [
       "  0%|          | 0/7 [00:00<?, ?it/s]"
      ]
     },
     "metadata": {},
     "output_type": "display_data"
    },
    {
     "name": "stdout",
     "output_type": "stream",
     "text": [
      "Processed 100 sentences\n",
      "\n",
      "============\n",
      "Total: Processed 100 sentences\n",
      "============\n",
      "Writing the results to /120040051/test_resource/sentence_ppl_lookup/sentence_lookup_vicuna_2024-03-07_auto.json, ...\n"
     ]
    }
   ],
   "source": [
    "ppl_results = perplexity.compute(model_id='/120040051/vicuna-7b-v1.5', add_start_token=False, predictions=sent_list_text)\n",
    "\n",
    "sent_list_ppl = []\n",
    "for i in range(len(sent_list_text)):\n",
    "    # sub = sent_dict[\"subj\"]\n",
    "    # text = sent_dict[\"text\"]\n",
    "    # ppl = calculate_perplexity(text, tokenizer, model, device)\n",
    "    assert (sent_list[i][\"text\"] == sent_list_text[i])\n",
    "    sent_list[i][\"ppl\"] = round(ppl_results['perplexities'][i], 2)\n",
    "    sent_list_ppl.append(sent_list[i])\n",
    "    i += 1\n",
    "    if (i % 100 == 0):\n",
    "        print(f\"Processed {i} sentences\")\n",
    "print(f\"\\n============\\nTotal: Processed {i} sentences\\n============\")\n",
    "j_data[\"data\"] = sent_list_ppl\n",
    "\n",
    "print(f\"Writing the results to {output_file_path}, ...\")\n",
    "with open(output_file_path, 'w') as f:\n",
    "    json.dump(j_data, f, indent=4)"
   ]
  }
 ],
 "metadata": {
  "kernelspec": {
   "display_name": "llama2",
   "language": "python",
   "name": "python3"
  },
  "language_info": {
   "codemirror_mode": {
    "name": "ipython",
    "version": 3
   },
   "file_extension": ".py",
   "mimetype": "text/x-python",
   "name": "python",
   "nbconvert_exporter": "python",
   "pygments_lexer": "ipython3",
   "version": "3.11.7"
  }
 },
 "nbformat": 4,
 "nbformat_minor": 2
}
